{
 "cells": [
  {
   "cell_type": "markdown",
   "id": "f5edc95b",
   "metadata": {},
   "source": [
    "Load the necessary packages"
   ]
  },
  {
   "cell_type": "code",
   "execution_count": 2,
   "id": "1c97d771",
   "metadata": {},
   "outputs": [],
   "source": [
    "import pickle\n",
    "import pandas as pd\n",
    "from bs4 import BeautifulSoup\n",
    "import requests\n",
    "import random\n",
    "\n"
   ]
  },
  {
   "cell_type": "markdown",
   "id": "ac4363d1",
   "metadata": {},
   "source": [
    "Load data"
   ]
  },
  {
   "cell_type": "code",
   "execution_count": 3,
   "id": "de5c4c87",
   "metadata": {},
   "outputs": [],
   "source": [
    "dict = pickle.load(open('elo_dict.pkl', 'rb'))"
   ]
  },
  {
   "cell_type": "code",
   "execution_count": 4,
   "id": "06a11535",
   "metadata": {},
   "outputs": [],
   "source": [
    "data = {\"link\":[], \"Elo_home\":[], \"Elo_away\":[]}\n",
    "for key in dict.keys():\n",
    "    data[\"link\"].append(key)\n",
    "    data[\"Elo_home\"].append(dict[key][\"Elo_home\"])\n",
    "    data['Elo_away'].append(dict[key]['Elo_away'])\n"
   ]
  },
  {
   "cell_type": "markdown",
   "id": "b3d581fe",
   "metadata": {},
   "source": [
    "Data processing"
   ]
  },
  {
   "cell_type": "code",
   "execution_count": 5,
   "id": "5ba6e187",
   "metadata": {},
   "outputs": [],
   "source": [
    "df = pd.DataFrame(data = data)\n",
    "n_rows = df.shape[0]\n",
    "random.seed(a = 1)\n",
    "numbers = random.sample(range(1, n_rows+1), 1000)\n",
    "df = df.loc[numbers]\n"
   ]
  },
  {
   "cell_type": "code",
   "execution_count": 6,
   "id": "3b1be3a9",
   "metadata": {},
   "outputs": [
    {
     "data": {
      "text/html": [
       "<div>\n",
       "<style scoped>\n",
       "    .dataframe tbody tr th:only-of-type {\n",
       "        vertical-align: middle;\n",
       "    }\n",
       "\n",
       "    .dataframe tbody tr th {\n",
       "        vertical-align: top;\n",
       "    }\n",
       "\n",
       "    .dataframe thead th {\n",
       "        text-align: right;\n",
       "    }\n",
       "</style>\n",
       "<table border=\"1\" class=\"dataframe\">\n",
       "  <thead>\n",
       "    <tr style=\"text-align: right;\">\n",
       "      <th></th>\n",
       "      <th>link</th>\n",
       "      <th>Elo_home</th>\n",
       "      <th>Elo_away</th>\n",
       "      <th>home_GF</th>\n",
       "      <th>home_GA</th>\n",
       "      <th>away_GF</th>\n",
       "      <th>away_GA</th>\n",
       "      <th>result</th>\n",
       "    </tr>\n",
       "  </thead>\n",
       "  <tbody>\n",
       "    <tr>\n",
       "      <th>35223</th>\n",
       "      <td>https://www.besoccer.com/match/fc-volendam/wil...</td>\n",
       "      <td>64.0</td>\n",
       "      <td>68.0</td>\n",
       "      <td>38</td>\n",
       "      <td>67</td>\n",
       "      <td>35</td>\n",
       "      <td>58</td>\n",
       "      <td>0.0</td>\n",
       "    </tr>\n",
       "    <tr>\n",
       "      <th>16544</th>\n",
       "      <td>https://www.besoccer.com/match/stuttgart/borus...</td>\n",
       "      <td>84.0</td>\n",
       "      <td>81.0</td>\n",
       "      <td>60</td>\n",
       "      <td>59</td>\n",
       "      <td>67</td>\n",
       "      <td>22</td>\n",
       "      <td>-1.0</td>\n",
       "    </tr>\n",
       "    <tr>\n",
       "      <th>66865</th>\n",
       "      <td>https://www.besoccer.com/match/fulham/manchest...</td>\n",
       "      <td>75.0</td>\n",
       "      <td>76.0</td>\n",
       "      <td>52</td>\n",
       "      <td>46</td>\n",
       "      <td>55</td>\n",
       "      <td>54</td>\n",
       "      <td>0.0</td>\n",
       "    </tr>\n",
       "    <tr>\n",
       "      <th>30912</th>\n",
       "      <td>https://www.besoccer.com/match/heerenveen/feye...</td>\n",
       "      <td>69.0</td>\n",
       "      <td>82.0</td>\n",
       "      <td>47</td>\n",
       "      <td>60</td>\n",
       "      <td>66</td>\n",
       "      <td>56</td>\n",
       "      <td>-1.0</td>\n",
       "    </tr>\n",
       "    <tr>\n",
       "      <th>129876</th>\n",
       "      <td>https://www.besoccer.com/match/ac-cesena/terna...</td>\n",
       "      <td>61.0</td>\n",
       "      <td>54.0</td>\n",
       "      <td>57</td>\n",
       "      <td>37</td>\n",
       "      <td>50</td>\n",
       "      <td>56</td>\n",
       "      <td>1.0</td>\n",
       "    </tr>\n",
       "  </tbody>\n",
       "</table>\n",
       "</div>"
      ],
      "text/plain": [
       "                                                     link  Elo_home  Elo_away  \\\n",
       "35223   https://www.besoccer.com/match/fc-volendam/wil...      64.0      68.0   \n",
       "16544   https://www.besoccer.com/match/stuttgart/borus...      84.0      81.0   \n",
       "66865   https://www.besoccer.com/match/fulham/manchest...      75.0      76.0   \n",
       "30912   https://www.besoccer.com/match/heerenveen/feye...      69.0      82.0   \n",
       "129876  https://www.besoccer.com/match/ac-cesena/terna...      61.0      54.0   \n",
       "\n",
       "       home_GF home_GA away_GF away_GA  result  \n",
       "35223       38      67      35      58     0.0  \n",
       "16544       60      59      67      22    -1.0  \n",
       "66865       52      46      55      54     0.0  \n",
       "30912       47      60      66      56    -1.0  \n",
       "129876      57      37      50      56     1.0  "
      ]
     },
     "execution_count": 6,
     "metadata": {},
     "output_type": "execute_result"
    }
   ],
   "source": [
    "for i in df.index:\n",
    "    url = df.loc[i,'link']\n",
    "    req = requests.get(url+'/table')\n",
    "    soup = BeautifulSoup(req.content, 'html.parser')\n",
    "    home = soup.select('p[itemprop=homeTeam]')[0].text[1:-1]\n",
    "    away = soup.select('p[itemprop=awayTeam]')[0].text[1:-1]\n",
    "    home_score = soup.select('span[class=r1]')[0].get_text()\n",
    "    away_score = soup.select('span[class=r2]')[0].get_text()\n",
    "    home_GF = 0\n",
    "    home_GA = 0\n",
    "    away_GF = 0\n",
    "    away_GA = 0\n",
    "    for html in soup.select('.row-body.marked'):\n",
    "        if html.select('span[class=team-name]')[0].get_text() == home:\n",
    "            home_GF = html.select('td[data-content-tab=tab_cc_total]')[5].get_text()\n",
    "            home_GA = html.select('td[data-content-tab=tab_cc_total]')[6].get_text()\n",
    "        elif html.select('span[class=team-name]')[0].get_text() == away:\n",
    "            away_GF = html.select('td[data-content-tab=tab_cc_total]')[5].get_text()\n",
    "            away_GA = html.select('td[data-content-tab=tab_cc_total]')[6].get_text()\n",
    "    df.loc[i, 'home_GF'] = home_GF\n",
    "    df.loc[i, 'home_GA'] = home_GA\n",
    "    df.loc[i, 'away_GF'] = away_GF\n",
    "    df.loc[i, 'away_GA'] = away_GA\n",
    "    if home_score > away_score:\n",
    "        df.loc[i, 'result'] = 1\n",
    "    elif home_score == away_score:\n",
    "        df.loc[i, 'result'] = 0\n",
    "    else:\n",
    "        df.loc[i, 'result'] = -1\n",
    "df.head()"
   ]
  },
  {
   "cell_type": "code",
   "execution_count": null,
   "id": "9824f5fe",
   "metadata": {},
   "outputs": [],
   "source": []
  },
  {
   "cell_type": "code",
   "execution_count": 7,
   "id": "05dbbfc0",
   "metadata": {},
   "outputs": [
    {
     "data": {
      "text/plain": [
       "'\\nFarense\\n'"
      ]
     },
     "execution_count": 7,
     "metadata": {},
     "output_type": "execute_result"
    }
   ],
   "source": [
    "soup.select('p[itemprop=homeTeam]')[0].text"
   ]
  },
  {
   "cell_type": "code",
   "execution_count": 8,
   "id": "eaea66c1",
   "metadata": {},
   "outputs": [],
   "source": [
    "url = df.loc[35223, 'link']"
   ]
  },
  {
   "cell_type": "code",
   "execution_count": null,
   "id": "1d06069e",
   "metadata": {},
   "outputs": [],
   "source": []
  }
 ],
 "metadata": {
  "kernelspec": {
   "display_name": "Python 3.8.13 ('test_env')",
   "language": "python",
   "name": "python3"
  },
  "language_info": {
   "codemirror_mode": {
    "name": "ipython",
    "version": 3
   },
   "file_extension": ".py",
   "mimetype": "text/x-python",
   "name": "python",
   "nbconvert_exporter": "python",
   "pygments_lexer": "ipython3",
   "version": "3.8.13"
  },
  "vscode": {
   "interpreter": {
    "hash": "ad9e9eb2daee000098dbe82a593671e3359c3d84087040faff4d2ccf390e5b71"
   }
  }
 },
 "nbformat": 4,
 "nbformat_minor": 5
}
