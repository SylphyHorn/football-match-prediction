{
 "cells": [
  {
   "cell_type": "markdown",
   "id": "f5edc95b",
   "metadata": {},
   "source": [
    "Load the necessary packages"
   ]
  },
  {
   "cell_type": "code",
   "execution_count": 1,
   "id": "1c97d771",
   "metadata": {},
   "outputs": [],
   "source": [
    "import pickle\n",
    "import pandas as pd\n",
    "from bs4 import BeautifulSoup\n",
    "import requests\n",
    "import random\n",
    "\n"
   ]
  },
  {
   "cell_type": "markdown",
   "id": "ac4363d1",
   "metadata": {},
   "source": [
    "Load data"
   ]
  },
  {
   "cell_type": "code",
   "execution_count": 2,
   "id": "de5c4c87",
   "metadata": {},
   "outputs": [],
   "source": [
    "dict = pickle.load(open('elo_dict.pkl', 'rb'))\n"
   ]
  },
  {
   "cell_type": "code",
   "execution_count": 3,
   "id": "06a11535",
   "metadata": {},
   "outputs": [],
   "source": [
    "data = {\"link\":[], \"Elo_home\":[], \"Elo_away\":[]}\n",
    "for key in dict.keys():\n",
    "    data[\"link\"].append(key)\n",
    "    data[\"Elo_home\"].append(dict[key][\"Elo_home\"])\n",
    "    data['Elo_away'].append(dict[key]['Elo_away'])\n"
   ]
  },
  {
   "cell_type": "markdown",
   "id": "b3d581fe",
   "metadata": {},
   "source": [
    "Data processing"
   ]
  },
  {
   "cell_type": "code",
   "execution_count": 4,
   "id": "5ba6e187",
   "metadata": {},
   "outputs": [],
   "source": [
    "df = pd.DataFrame(data = data)\n",
    "df.dropna(inplace=True)\n",
    "df.reset_index(inplace=True)\n",
    "n_rows = df.shape[0]\n",
    "random.seed(a = 1)\n",
    "numbers = random.sample(range(1, n_rows+1), 1000)\n",
    "df = df.loc[numbers]\n"
   ]
  },
  {
   "cell_type": "code",
   "execution_count": 5,
   "id": "3b1be3a9",
   "metadata": {},
   "outputs": [
    {
     "data": {
      "text/html": [
       "<div>\n",
       "<style scoped>\n",
       "    .dataframe tbody tr th:only-of-type {\n",
       "        vertical-align: middle;\n",
       "    }\n",
       "\n",
       "    .dataframe tbody tr th {\n",
       "        vertical-align: top;\n",
       "    }\n",
       "\n",
       "    .dataframe thead th {\n",
       "        text-align: right;\n",
       "    }\n",
       "</style>\n",
       "<table border=\"1\" class=\"dataframe\">\n",
       "  <thead>\n",
       "    <tr style=\"text-align: right;\">\n",
       "      <th></th>\n",
       "      <th>index</th>\n",
       "      <th>link</th>\n",
       "      <th>Elo_home</th>\n",
       "      <th>Elo_away</th>\n",
       "      <th>home_GF</th>\n",
       "      <th>home_GA</th>\n",
       "      <th>away_GF</th>\n",
       "      <th>away_GA</th>\n",
       "      <th>result</th>\n",
       "    </tr>\n",
       "  </thead>\n",
       "  <tbody>\n",
       "    <tr>\n",
       "      <th>17612</th>\n",
       "      <td>17918</td>\n",
       "      <td>https://www.besoccer.com/match/tsg-1899-hoffen...</td>\n",
       "      <td>74.0</td>\n",
       "      <td>75.0</td>\n",
       "      <td>49</td>\n",
       "      <td>55</td>\n",
       "      <td>50</td>\n",
       "      <td>65</td>\n",
       "      <td>-1.0</td>\n",
       "    </tr>\n",
       "    <tr>\n",
       "      <th>74607</th>\n",
       "      <td>81300</td>\n",
       "      <td>https://www.besoccer.com/match/sporting-lisbon...</td>\n",
       "      <td>87.0</td>\n",
       "      <td>90.0</td>\n",
       "      <td>79</td>\n",
       "      <td>21</td>\n",
       "      <td>88</td>\n",
       "      <td>22</td>\n",
       "      <td>-1.0</td>\n",
       "    </tr>\n",
       "    <tr>\n",
       "      <th>111075</th>\n",
       "      <td>117794</td>\n",
       "      <td>https://www.besoccer.com/match/torino-fc/genoa...</td>\n",
       "      <td>77.0</td>\n",
       "      <td>72.0</td>\n",
       "      <td>52</td>\n",
       "      <td>37</td>\n",
       "      <td>39</td>\n",
       "      <td>57</td>\n",
       "      <td>1.0</td>\n",
       "    </tr>\n",
       "    <tr>\n",
       "      <th>105155</th>\n",
       "      <td>111874</td>\n",
       "      <td>https://www.besoccer.com/match/empoli-fc/atala...</td>\n",
       "      <td>72.0</td>\n",
       "      <td>72.0</td>\n",
       "      <td>50</td>\n",
       "      <td>58</td>\n",
       "      <td>25</td>\n",
       "      <td>48</td>\n",
       "      <td>1.0</td>\n",
       "    </tr>\n",
       "    <tr>\n",
       "      <th>100110</th>\n",
       "      <td>106806</td>\n",
       "      <td>https://www.besoccer.com/match/alaves/tenerife...</td>\n",
       "      <td>57.0</td>\n",
       "      <td>54.0</td>\n",
       "      <td>49</td>\n",
       "      <td>35</td>\n",
       "      <td>45</td>\n",
       "      <td>46</td>\n",
       "      <td>0.0</td>\n",
       "    </tr>\n",
       "  </tbody>\n",
       "</table>\n",
       "</div>"
      ],
      "text/plain": [
       "         index                                               link  Elo_home  \\\n",
       "17612    17918  https://www.besoccer.com/match/tsg-1899-hoffen...      74.0   \n",
       "74607    81300  https://www.besoccer.com/match/sporting-lisbon...      87.0   \n",
       "111075  117794  https://www.besoccer.com/match/torino-fc/genoa...      77.0   \n",
       "105155  111874  https://www.besoccer.com/match/empoli-fc/atala...      72.0   \n",
       "100110  106806  https://www.besoccer.com/match/alaves/tenerife...      57.0   \n",
       "\n",
       "        Elo_away home_GF home_GA away_GF away_GA  result  \n",
       "17612       75.0      49      55      50      65    -1.0  \n",
       "74607       90.0      79      21      88      22    -1.0  \n",
       "111075      72.0      52      37      39      57     1.0  \n",
       "105155      72.0      50      58      25      48     1.0  \n",
       "100110      54.0      49      35      45      46     0.0  "
      ]
     },
     "execution_count": 5,
     "metadata": {},
     "output_type": "execute_result"
    }
   ],
   "source": [
    "for i in df.index:\n",
    "    url = df.loc[i,'link']\n",
    "    req = requests.get(url+'/table')\n",
    "    soup = BeautifulSoup(req.content, 'html.parser')\n",
    "    home = soup.select('p[itemprop=homeTeam]')[0].text[1:-1]\n",
    "    away = soup.select('p[itemprop=awayTeam]')[0].text[1:-1]\n",
    "    home_score = soup.select('span[class=r1]')[0].get_text()\n",
    "    away_score = soup.select('span[class=r2]')[0].get_text()\n",
    "    home_GF = 0\n",
    "    home_GA = 0\n",
    "    away_GF = 0\n",
    "    away_GA = 0\n",
    "    for html in soup.select('.row-body.marked'):\n",
    "        if html.select('span[class=team-name]')[0].get_text() == home:\n",
    "            home_GF = html.select('td[data-content-tab=tab_cc_total]')[5].get_text()\n",
    "            home_GA = html.select('td[data-content-tab=tab_cc_total]')[6].get_text()\n",
    "        elif html.select('span[class=team-name]')[0].get_text() == away:\n",
    "            away_GF = html.select('td[data-content-tab=tab_cc_total]')[5].get_text()\n",
    "            away_GA = html.select('td[data-content-tab=tab_cc_total]')[6].get_text()\n",
    "    df.loc[i, 'home_GF'] = home_GF\n",
    "    df.loc[i, 'home_GA'] = home_GA\n",
    "    df.loc[i, 'away_GF'] = away_GF\n",
    "    df.loc[i, 'away_GA'] = away_GA\n",
    "    if home_score > away_score:\n",
    "        df.loc[i, 'result'] = 1\n",
    "    elif home_score == away_score:\n",
    "        df.loc[i, 'result'] = 0\n",
    "    else:\n",
    "        df.loc[i, 'result'] = -1\n",
    "df.head()\n"
   ]
  },
  {
   "cell_type": "code",
   "execution_count": 6,
   "id": "9824f5fe",
   "metadata": {},
   "outputs": [
    {
     "data": {
      "text/html": [
       "<div>\n",
       "<style scoped>\n",
       "    .dataframe tbody tr th:only-of-type {\n",
       "        vertical-align: middle;\n",
       "    }\n",
       "\n",
       "    .dataframe tbody tr th {\n",
       "        vertical-align: top;\n",
       "    }\n",
       "\n",
       "    .dataframe thead th {\n",
       "        text-align: right;\n",
       "    }\n",
       "</style>\n",
       "<table border=\"1\" class=\"dataframe\">\n",
       "  <thead>\n",
       "    <tr style=\"text-align: right;\">\n",
       "      <th></th>\n",
       "      <th>level_0</th>\n",
       "      <th>Elo_home</th>\n",
       "      <th>Elo_away</th>\n",
       "      <th>home_GF</th>\n",
       "      <th>home_GA</th>\n",
       "      <th>away_GF</th>\n",
       "      <th>away_GA</th>\n",
       "      <th>result</th>\n",
       "    </tr>\n",
       "  </thead>\n",
       "  <tbody>\n",
       "    <tr>\n",
       "      <th>0</th>\n",
       "      <td>17612</td>\n",
       "      <td>74.0</td>\n",
       "      <td>75.0</td>\n",
       "      <td>49</td>\n",
       "      <td>55</td>\n",
       "      <td>50</td>\n",
       "      <td>65</td>\n",
       "      <td>-1.0</td>\n",
       "    </tr>\n",
       "    <tr>\n",
       "      <th>1</th>\n",
       "      <td>74607</td>\n",
       "      <td>87.0</td>\n",
       "      <td>90.0</td>\n",
       "      <td>79</td>\n",
       "      <td>21</td>\n",
       "      <td>88</td>\n",
       "      <td>22</td>\n",
       "      <td>-1.0</td>\n",
       "    </tr>\n",
       "    <tr>\n",
       "      <th>2</th>\n",
       "      <td>111075</td>\n",
       "      <td>77.0</td>\n",
       "      <td>72.0</td>\n",
       "      <td>52</td>\n",
       "      <td>37</td>\n",
       "      <td>39</td>\n",
       "      <td>57</td>\n",
       "      <td>1.0</td>\n",
       "    </tr>\n",
       "    <tr>\n",
       "      <th>3</th>\n",
       "      <td>105155</td>\n",
       "      <td>72.0</td>\n",
       "      <td>72.0</td>\n",
       "      <td>50</td>\n",
       "      <td>58</td>\n",
       "      <td>25</td>\n",
       "      <td>48</td>\n",
       "      <td>1.0</td>\n",
       "    </tr>\n",
       "    <tr>\n",
       "      <th>4</th>\n",
       "      <td>100110</td>\n",
       "      <td>57.0</td>\n",
       "      <td>54.0</td>\n",
       "      <td>49</td>\n",
       "      <td>35</td>\n",
       "      <td>45</td>\n",
       "      <td>46</td>\n",
       "      <td>0.0</td>\n",
       "    </tr>\n",
       "  </tbody>\n",
       "</table>\n",
       "</div>"
      ],
      "text/plain": [
       "   level_0  Elo_home  Elo_away home_GF home_GA away_GF away_GA  result\n",
       "0    17612      74.0      75.0      49      55      50      65    -1.0\n",
       "1    74607      87.0      90.0      79      21      88      22    -1.0\n",
       "2   111075      77.0      72.0      52      37      39      57     1.0\n",
       "3   105155      72.0      72.0      50      58      25      48     1.0\n",
       "4   100110      57.0      54.0      49      35      45      46     0.0"
      ]
     },
     "execution_count": 6,
     "metadata": {},
     "output_type": "execute_result"
    }
   ],
   "source": [
    "df.drop(columns='link', inplace=True)\n",
    "df.reset_index(inplace=True)\n",
    "df.drop(columns='index', inplace=True)\n",
    "df.head()"
   ]
  },
  {
   "cell_type": "code",
   "execution_count": 7,
   "id": "8d00859f",
   "metadata": {},
   "outputs": [],
   "source": [
    "df.to_csv('sampled_matches.csv')"
   ]
  },
  {
   "cell_type": "code",
   "execution_count": 8,
   "id": "31c1df48",
   "metadata": {},
   "outputs": [
    {
     "data": {
      "text/html": [
       "<div>\n",
       "<style scoped>\n",
       "    .dataframe tbody tr th:only-of-type {\n",
       "        vertical-align: middle;\n",
       "    }\n",
       "\n",
       "    .dataframe tbody tr th {\n",
       "        vertical-align: top;\n",
       "    }\n",
       "\n",
       "    .dataframe thead th {\n",
       "        text-align: right;\n",
       "    }\n",
       "</style>\n",
       "<table border=\"1\" class=\"dataframe\">\n",
       "  <thead>\n",
       "    <tr style=\"text-align: right;\">\n",
       "      <th></th>\n",
       "      <th>level_0</th>\n",
       "      <th>Elo_home</th>\n",
       "      <th>Elo_away</th>\n",
       "      <th>home_GF</th>\n",
       "      <th>home_GA</th>\n",
       "      <th>away_GF</th>\n",
       "      <th>away_GA</th>\n",
       "      <th>result</th>\n",
       "    </tr>\n",
       "  </thead>\n",
       "  <tbody>\n",
       "    <tr>\n",
       "      <th>711</th>\n",
       "      <td>22568</td>\n",
       "      <td>60.0</td>\n",
       "      <td>69.0</td>\n",
       "      <td>59</td>\n",
       "      <td>71</td>\n",
       "      <td>55</td>\n",
       "      <td>51</td>\n",
       "      <td>1.0</td>\n",
       "    </tr>\n",
       "  </tbody>\n",
       "</table>\n",
       "</div>"
      ],
      "text/plain": [
       "     level_0  Elo_home  Elo_away home_GF home_GA away_GF away_GA  result\n",
       "711    22568      60.0      69.0      59      71      55      51     1.0"
      ]
     },
     "execution_count": 8,
     "metadata": {},
     "output_type": "execute_result"
    }
   ],
   "source": [
    "df.loc[[711],]"
   ]
  },
  {
   "cell_type": "code",
   "execution_count": null,
   "id": "2ac34fca",
   "metadata": {},
   "outputs": [],
   "source": []
  },
  {
   "cell_type": "code",
   "execution_count": null,
   "id": "4a7f9a07",
   "metadata": {},
   "outputs": [],
   "source": []
  }
 ],
 "metadata": {
  "kernelspec": {
   "display_name": "Python 3.8.13 ('test_env')",
   "language": "python",
   "name": "python3"
  },
  "language_info": {
   "codemirror_mode": {
    "name": "ipython",
    "version": 3
   },
   "file_extension": ".py",
   "mimetype": "text/x-python",
   "name": "python",
   "nbconvert_exporter": "python",
   "pygments_lexer": "ipython3",
   "version": "3.8.13"
  },
  "vscode": {
   "interpreter": {
    "hash": "ad9e9eb2daee000098dbe82a593671e3359c3d84087040faff4d2ccf390e5b71"
   }
  }
 },
 "nbformat": 4,
 "nbformat_minor": 5
}
