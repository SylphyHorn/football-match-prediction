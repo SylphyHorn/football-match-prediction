{
 "cells": [
  {
   "cell_type": "markdown",
   "metadata": {},
   "source": [
    "Making predictions on the games. First load the data set and model"
   ]
  },
  {
   "cell_type": "code",
   "execution_count": 19,
   "metadata": {},
   "outputs": [],
   "source": [
    "import pandas as pd\n",
    "from joblib import dump, load\n",
    "df = pd.read_csv('to_predict.csv')\n",
    "df.head()\n",
    "model = load('RF.joblib')"
   ]
  },
  {
   "cell_type": "code",
   "execution_count": 20,
   "metadata": {},
   "outputs": [],
   "source": [
    "X = df[['Elo_home', 'Elo_away', 'home_GF', 'home_GA', 'away_GF', 'away_GA']]\n",
    "y_true = df[['result']]\n",
    "scaler = load('scaler.joblib')\n",
    "X = scaler.transform(X)\n"
   ]
  },
  {
   "cell_type": "code",
   "execution_count": 21,
   "metadata": {},
   "outputs": [
    {
     "name": "stdout",
     "output_type": "stream",
     "text": [
      "[-1. -1.  1. -1.  1.  1.  1.  1. -1.  1.  1. -1.  1.  1. -1. -1.  1.  1.\n",
      " -1.  1.  1. -1.  1.  1.  1.  1. -1.  1.  1. -1. -1.  1.  0. -1.  1.  1.\n",
      " -1.  1.  1.  1.  1. -1. -1.  1. -1.  1. -1.  1. -1.  1.  1.  1.  1.  1.\n",
      "  1.  1.  1.  1. -1.  1.  1.  1.  1. -1. -1.  1.  1. -1.  1. -1.  1. -1.\n",
      " -1.  1.  1.  1. -1. -1.  1.  1.  1. -1. -1.  1.  1.  1.  1.  1. -1.  1.\n",
      " -1.  1.  1.  1. -1.  1.  1.  1.  1.  1. -1.  1. -1.  1.  1.  1. -1.  1.\n",
      "  1.  1.  1.  1.  1. -1.  1.  1.  1. -1. -1.  1.  1. -1.  1.  1.  1.  0.\n",
      " -1.  1.  1. -1. -1.  1.  1.  1.  1.  1.  0.  1.]\n"
     ]
    },
    {
     "data": {
      "text/plain": [
       "0.6231884057971014"
      ]
     },
     "execution_count": 21,
     "metadata": {},
     "output_type": "execute_result"
    }
   ],
   "source": [
    "from sklearn.metrics import accuracy_score\n",
    "y_pred = model.predict(X)\n",
    "print(y_pred)\n",
    "accuracy_score(y_true,y_pred)"
   ]
  },
  {
   "cell_type": "code",
   "execution_count": null,
   "metadata": {},
   "outputs": [],
   "source": []
  }
 ],
 "metadata": {
  "kernelspec": {
   "display_name": "Python 3.8.13 ('test_env')",
   "language": "python",
   "name": "python3"
  },
  "language_info": {
   "codemirror_mode": {
    "name": "ipython",
    "version": 3
   },
   "file_extension": ".py",
   "mimetype": "text/x-python",
   "name": "python",
   "nbconvert_exporter": "python",
   "pygments_lexer": "ipython3",
   "version": "3.8.13"
  },
  "orig_nbformat": 4,
  "vscode": {
   "interpreter": {
    "hash": "ad9e9eb2daee000098dbe82a593671e3359c3d84087040faff4d2ccf390e5b71"
   }
  }
 },
 "nbformat": 4,
 "nbformat_minor": 2
}
