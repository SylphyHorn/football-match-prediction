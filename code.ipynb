{
 "cells": [
  {
   "cell_type": "markdown",
   "metadata": {},
   "source": [
    "# implement a simple KNN model"
   ]
  },
  {
   "cell_type": "code",
   "execution_count": 45,
   "metadata": {},
   "outputs": [],
   "source": [
    "import pandas as pd\n"
   ]
  },
  {
   "cell_type": "code",
   "execution_count": 46,
   "metadata": {},
   "outputs": [],
   "source": [
    "df = pd.read_csv(\"sampled_matches.csv\")\n",
    "df.drop(columns='Unnamed: 0', inplace=True)"
   ]
  },
  {
   "cell_type": "code",
   "execution_count": 47,
   "metadata": {},
   "outputs": [],
   "source": [
    "from sklearn.neighbors import KNeighborsClassifier\n",
    "from sklearn.preprocessing import MinMaxScaler\n",
    "from sklearn.model_selection import train_test_split"
   ]
  },
  {
   "cell_type": "code",
   "execution_count": 48,
   "metadata": {},
   "outputs": [],
   "source": [
    "X, y = df.drop(columns='result'), df[['result']]"
   ]
  },
  {
   "cell_type": "code",
   "execution_count": 49,
   "metadata": {},
   "outputs": [],
   "source": [
    "X_train, X_test, y_train, y_test = train_test_split(X, y, test_size=0.33, random_state=42)"
   ]
  },
  {
   "cell_type": "code",
   "execution_count": 50,
   "metadata": {},
   "outputs": [],
   "source": [
    "scaler = MinMaxScaler()\n",
    "scaler.fit(X_train)\n",
    "X_train = scaler.transform(X_train)\n",
    "X_test = scaler.transform(X_test)\n",
    "\n"
   ]
  },
  {
   "cell_type": "code",
   "execution_count": 51,
   "metadata": {},
   "outputs": [
    {
     "name": "stderr",
     "output_type": "stream",
     "text": [
      "/opt/homebrew/Caskroom/miniforge/base/envs/test_env/lib/python3.8/site-packages/sklearn/neighbors/_classification.py:200: DataConversionWarning: A column-vector y was passed when a 1d array was expected. Please change the shape of y to (n_samples,), for example using ravel().\n",
      "  return self._fit(X, y)\n"
     ]
    },
    {
     "data": {
      "text/plain": [
       "array([-1.,  0.,  1., -1.,  1.,  1.,  1., -1., -1.,  0.,  1.,  0.,  0.,\n",
       "        1., -1.,  1.,  1.,  0.,  0.,  1., -1.,  1.,  1.,  0., -1.,  1.,\n",
       "        1., -1., -1.,  1.,  0., -1.,  1., -1., -1., -1.,  1.,  1.,  0.,\n",
       "        0.,  0.,  1., -1.,  1.,  1., -1.,  0.,  1.,  1.,  0.,  1.,  1.,\n",
       "        1.,  0.,  0.,  1.,  1., -1.,  0.,  0.,  1.,  1.,  0.,  1.,  1.,\n",
       "        1., -1.,  1., -1.,  0.,  1.,  1.,  0.,  0.,  1., -1.,  1.,  1.,\n",
       "       -1.,  1.,  0.,  0.,  0.,  1.,  0., -1.,  0., -1., -1.,  1.,  0.,\n",
       "        0.,  0., -1.,  1., -1.,  1., -1.,  1., -1., -1.,  1.,  1., -1.,\n",
       "       -1.,  1., -1.,  1.,  1.,  1., -1.,  1.,  1.,  1.,  1.,  0.,  0.,\n",
       "       -1.,  1.,  1., -1.,  1.,  1.,  0.,  0.,  0., -1.,  1., -1.,  1.,\n",
       "        0.,  0., -1.,  1.,  1.,  1.,  1., -1., -1.,  1.,  1.,  0., -1.,\n",
       "        1.,  1.,  1., -1., -1., -1., -1.,  1.,  1., -1.,  1.,  0.,  1.,\n",
       "       -1.,  1., -1.,  1.,  1.,  1., -1., -1.,  1.,  1.,  0.,  1., -1.,\n",
       "        1., -1., -1., -1.,  1.,  1.,  1., -1., -1., -1., -1., -1., -1.,\n",
       "        1., -1.,  1.,  0.,  0.,  0., -1.,  0.,  1.,  1.,  0.,  1.,  0.,\n",
       "        1.,  1.,  0.,  0.,  0., -1.,  1., -1., -1.,  1.,  0., -1.,  1.,\n",
       "       -1.,  1.,  1., -1., -1., -1.,  1.,  0.,  1.,  0., -1.,  1.,  1.,\n",
       "        0., -1., -1.,  0.,  1.,  1., -1.,  1.,  1.,  0.,  1.,  1.,  1.,\n",
       "        1.,  1., -1., -1.,  1., -1.,  1.,  1., -1.,  1.,  0.,  1.,  1.,\n",
       "        1.,  0., -1.,  1.,  0.,  1.,  1.,  1.,  0., -1., -1.,  1.,  1.,\n",
       "       -1.,  1., -1.,  1.,  1.,  1.,  1., -1.,  0., -1., -1.,  0.,  0.,\n",
       "        1.,  0.,  0.,  0.,  1., -1.,  0.,  0.,  1., -1.,  1.,  1., -1.,\n",
       "        0.,  1.,  0., -1.,  0.,  1.,  1., -1.,  1., -1.,  1.,  1., -1.,\n",
       "        0.,  1.,  0.,  1.,  0., -1.,  0.,  1.,  1.,  1.,  1.,  1.,  1.,\n",
       "        1., -1.,  0.,  1., -1.,  1.,  1.,  1.,  1., -1.,  0.,  1., -1.,\n",
       "        1.,  1.,  1.,  1., -1.])"
      ]
     },
     "execution_count": 51,
     "metadata": {},
     "output_type": "execute_result"
    }
   ],
   "source": [
    "neigh = KNeighborsClassifier(n_neighbors=5)\n",
    "neigh.fit(X_train, y_train)\n",
    "y_pred = neigh.predict(X_test)\n",
    "y_pred"
   ]
  },
  {
   "cell_type": "code",
   "execution_count": 52,
   "metadata": {},
   "outputs": [
    {
     "name": "stdout",
     "output_type": "stream",
     "text": [
      "0.3939393939393939\n",
      "0.6208955223880597\n"
     ]
    }
   ],
   "source": [
    "from sklearn.metrics import accuracy_score\n",
    "print(accuracy_score(y_test, y_pred))\n",
    "print(accuracy_score(y_train, neigh.predict(X_train)))"
   ]
  },
  {
   "cell_type": "markdown",
   "metadata": {},
   "source": [
    "Save the model"
   ]
  },
  {
   "cell_type": "code",
   "execution_count": 53,
   "metadata": {},
   "outputs": [
    {
     "data": {
      "text/plain": [
       "['Simple_KNN model.joblib']"
      ]
     },
     "execution_count": 53,
     "metadata": {},
     "output_type": "execute_result"
    }
   ],
   "source": [
    "from joblib import dump, load\n",
    "dump(scaler, 'Simple_KNN model.joblib') "
   ]
  },
  {
   "cell_type": "markdown",
   "metadata": {},
   "source": [
    "# train and tune other models\n",
    "## KNN"
   ]
  },
  {
   "cell_type": "code",
   "execution_count": 54,
   "metadata": {},
   "outputs": [
    {
     "data": {
      "text/html": [
       "<style>#sk-container-id-4 {color: black;background-color: white;}#sk-container-id-4 pre{padding: 0;}#sk-container-id-4 div.sk-toggleable {background-color: white;}#sk-container-id-4 label.sk-toggleable__label {cursor: pointer;display: block;width: 100%;margin-bottom: 0;padding: 0.3em;box-sizing: border-box;text-align: center;}#sk-container-id-4 label.sk-toggleable__label-arrow:before {content: \"▸\";float: left;margin-right: 0.25em;color: #696969;}#sk-container-id-4 label.sk-toggleable__label-arrow:hover:before {color: black;}#sk-container-id-4 div.sk-estimator:hover label.sk-toggleable__label-arrow:before {color: black;}#sk-container-id-4 div.sk-toggleable__content {max-height: 0;max-width: 0;overflow: hidden;text-align: left;background-color: #f0f8ff;}#sk-container-id-4 div.sk-toggleable__content pre {margin: 0.2em;color: black;border-radius: 0.25em;background-color: #f0f8ff;}#sk-container-id-4 input.sk-toggleable__control:checked~div.sk-toggleable__content {max-height: 200px;max-width: 100%;overflow: auto;}#sk-container-id-4 input.sk-toggleable__control:checked~label.sk-toggleable__label-arrow:before {content: \"▾\";}#sk-container-id-4 div.sk-estimator input.sk-toggleable__control:checked~label.sk-toggleable__label {background-color: #d4ebff;}#sk-container-id-4 div.sk-label input.sk-toggleable__control:checked~label.sk-toggleable__label {background-color: #d4ebff;}#sk-container-id-4 input.sk-hidden--visually {border: 0;clip: rect(1px 1px 1px 1px);clip: rect(1px, 1px, 1px, 1px);height: 1px;margin: -1px;overflow: hidden;padding: 0;position: absolute;width: 1px;}#sk-container-id-4 div.sk-estimator {font-family: monospace;background-color: #f0f8ff;border: 1px dotted black;border-radius: 0.25em;box-sizing: border-box;margin-bottom: 0.5em;}#sk-container-id-4 div.sk-estimator:hover {background-color: #d4ebff;}#sk-container-id-4 div.sk-parallel-item::after {content: \"\";width: 100%;border-bottom: 1px solid gray;flex-grow: 1;}#sk-container-id-4 div.sk-label:hover label.sk-toggleable__label {background-color: #d4ebff;}#sk-container-id-4 div.sk-serial::before {content: \"\";position: absolute;border-left: 1px solid gray;box-sizing: border-box;top: 0;bottom: 0;left: 50%;z-index: 0;}#sk-container-id-4 div.sk-serial {display: flex;flex-direction: column;align-items: center;background-color: white;padding-right: 0.2em;padding-left: 0.2em;position: relative;}#sk-container-id-4 div.sk-item {position: relative;z-index: 1;}#sk-container-id-4 div.sk-parallel {display: flex;align-items: stretch;justify-content: center;background-color: white;position: relative;}#sk-container-id-4 div.sk-item::before, #sk-container-id-4 div.sk-parallel-item::before {content: \"\";position: absolute;border-left: 1px solid gray;box-sizing: border-box;top: 0;bottom: 0;left: 50%;z-index: -1;}#sk-container-id-4 div.sk-parallel-item {display: flex;flex-direction: column;z-index: 1;position: relative;background-color: white;}#sk-container-id-4 div.sk-parallel-item:first-child::after {align-self: flex-end;width: 50%;}#sk-container-id-4 div.sk-parallel-item:last-child::after {align-self: flex-start;width: 50%;}#sk-container-id-4 div.sk-parallel-item:only-child::after {width: 0;}#sk-container-id-4 div.sk-dashed-wrapped {border: 1px dashed gray;margin: 0 0.4em 0.5em 0.4em;box-sizing: border-box;padding-bottom: 0.4em;background-color: white;}#sk-container-id-4 div.sk-label label {font-family: monospace;font-weight: bold;display: inline-block;line-height: 1.2em;}#sk-container-id-4 div.sk-label-container {text-align: center;}#sk-container-id-4 div.sk-container {/* jupyter's `normalize.less` sets `[hidden] { display: none; }` but bootstrap.min.css set `[hidden] { display: none !important; }` so we also need the `!important` here to be able to override the default hidden behavior on the sphinx rendered scikit-learn.org. See: https://github.com/scikit-learn/scikit-learn/issues/21755 */display: inline-block !important;position: relative;}#sk-container-id-4 div.sk-text-repr-fallback {display: none;}</style><div id=\"sk-container-id-4\" class=\"sk-top-container\"><div class=\"sk-text-repr-fallback\"><pre>GridSearchCV(estimator=KNeighborsClassifier(),\n",
       "             param_grid={&#x27;n_neighbors&#x27;: range(1, 10)}, scoring=&#x27;accuracy&#x27;)</pre><b>In a Jupyter environment, please rerun this cell to show the HTML representation or trust the notebook. <br />On GitHub, the HTML representation is unable to render, please try loading this page with nbviewer.org.</b></div><div class=\"sk-container\" hidden><div class=\"sk-item sk-dashed-wrapped\"><div class=\"sk-label-container\"><div class=\"sk-label sk-toggleable\"><input class=\"sk-toggleable__control sk-hidden--visually\" id=\"sk-estimator-id-10\" type=\"checkbox\" ><label for=\"sk-estimator-id-10\" class=\"sk-toggleable__label sk-toggleable__label-arrow\">GridSearchCV</label><div class=\"sk-toggleable__content\"><pre>GridSearchCV(estimator=KNeighborsClassifier(),\n",
       "             param_grid={&#x27;n_neighbors&#x27;: range(1, 10)}, scoring=&#x27;accuracy&#x27;)</pre></div></div></div><div class=\"sk-parallel\"><div class=\"sk-parallel-item\"><div class=\"sk-item\"><div class=\"sk-label-container\"><div class=\"sk-label sk-toggleable\"><input class=\"sk-toggleable__control sk-hidden--visually\" id=\"sk-estimator-id-11\" type=\"checkbox\" ><label for=\"sk-estimator-id-11\" class=\"sk-toggleable__label sk-toggleable__label-arrow\">estimator: KNeighborsClassifier</label><div class=\"sk-toggleable__content\"><pre>KNeighborsClassifier()</pre></div></div></div><div class=\"sk-serial\"><div class=\"sk-item\"><div class=\"sk-estimator sk-toggleable\"><input class=\"sk-toggleable__control sk-hidden--visually\" id=\"sk-estimator-id-12\" type=\"checkbox\" ><label for=\"sk-estimator-id-12\" class=\"sk-toggleable__label sk-toggleable__label-arrow\">KNeighborsClassifier</label><div class=\"sk-toggleable__content\"><pre>KNeighborsClassifier()</pre></div></div></div></div></div></div></div></div></div></div>"
      ],
      "text/plain": [
       "GridSearchCV(estimator=KNeighborsClassifier(),\n",
       "             param_grid={'n_neighbors': range(1, 10)}, scoring='accuracy')"
      ]
     },
     "execution_count": 54,
     "metadata": {},
     "output_type": "execute_result"
    }
   ],
   "source": [
    "from sklearn.model_selection import GridSearchCV\n",
    "parameters = {'n_neighbors':range(1, 10)}\n",
    "neigh = KNeighborsClassifier()\n",
    "neigh_gs = GridSearchCV(neigh, parameters, scoring = \"accuracy\")\n",
    "neigh_gs.fit(X_train, y_train.values.ravel())\n",
    "\n"
   ]
  },
  {
   "cell_type": "code",
   "execution_count": 55,
   "metadata": {},
   "outputs": [
    {
     "name": "stdout",
     "output_type": "stream",
     "text": [
      "0.403030303030303\n",
      "{'n_neighbors': 6}\n"
     ]
    }
   ],
   "source": [
    "y_pred = neigh_gs.predict(X_test)\n",
    "print(accuracy_score(y_test, y_pred))\n",
    "print(neigh_gs.best_params_)\n"
   ]
  },
  {
   "cell_type": "code",
   "execution_count": 56,
   "metadata": {},
   "outputs": [
    {
     "data": {
      "text/plain": [
       "['KNN.joblib']"
      ]
     },
     "execution_count": 56,
     "metadata": {},
     "output_type": "execute_result"
    }
   ],
   "source": [
    "from joblib import dump, load\n",
    "dump(neigh_gs, 'KNN.joblib') "
   ]
  },
  {
   "cell_type": "markdown",
   "metadata": {},
   "source": [
    "# Decision tree"
   ]
  },
  {
   "cell_type": "code",
   "execution_count": 57,
   "metadata": {},
   "outputs": [
    {
     "name": "stdout",
     "output_type": "stream",
     "text": [
      "0.49696969696969695\n",
      "{'criterion': 'gini', 'min_samples_leaf': 60, 'splitter': 'best'}\n"
     ]
    }
   ],
   "source": [
    "from sklearn.tree import DecisionTreeClassifier\n",
    "DT = DecisionTreeClassifier()\n",
    "parameters ={\"criterion\":['gini', 'entropy', 'log_loss'], 'splitter':['best', 'random'], 'min_samples_leaf':[10,20,30,40,50,60,70]}\n",
    "DT_gs = GridSearchCV(DT, parameters, scoring ='accuracy')\n",
    "DT_gs.fit(X_train, y_train.values.ravel())\n",
    "y_pred = DT_gs.predict(X_test)\n",
    "print(accuracy_score(y_test, y_pred))\n",
    "print(DT_gs.best_params_)"
   ]
  },
  {
   "cell_type": "code",
   "execution_count": 58,
   "metadata": {},
   "outputs": [
    {
     "data": {
      "text/plain": [
       "['DT.joblib']"
      ]
     },
     "execution_count": 58,
     "metadata": {},
     "output_type": "execute_result"
    }
   ],
   "source": [
    "dump(DT_gs, 'DT.joblib') "
   ]
  },
  {
   "cell_type": "markdown",
   "metadata": {},
   "source": [
    "# Random Forest"
   ]
  },
  {
   "cell_type": "code",
   "execution_count": 60,
   "metadata": {},
   "outputs": [
    {
     "name": "stdout",
     "output_type": "stream",
     "text": [
      "0.49696969696969695\n",
      "{'max_depth': 60, 'min_samples_leaf': 19, 'min_samples_split': 5}\n"
     ]
    },
    {
     "name": "stderr",
     "output_type": "stream",
     "text": [
      "/opt/homebrew/Caskroom/miniforge/base/envs/test_env/lib/python3.8/site-packages/sklearn/model_selection/_validation.py:378: FitFailedWarning: \n",
      "200 fits failed out of a total of 1800.\n",
      "The score on these train-test partitions for these parameters will be set to nan.\n",
      "If these failures are not expected, you can try to debug them by setting error_score='raise'.\n",
      "\n",
      "Below are more details about the failures:\n",
      "--------------------------------------------------------------------------------\n",
      "200 fits failed with the following error:\n",
      "Traceback (most recent call last):\n",
      "  File \"/opt/homebrew/Caskroom/miniforge/base/envs/test_env/lib/python3.8/site-packages/sklearn/model_selection/_validation.py\", line 686, in _fit_and_score\n",
      "    estimator.fit(X_train, y_train, **fit_params)\n",
      "  File \"/opt/homebrew/Caskroom/miniforge/base/envs/test_env/lib/python3.8/site-packages/sklearn/ensemble/_forest.py\", line 476, in fit\n",
      "    trees = Parallel(\n",
      "  File \"/opt/homebrew/Caskroom/miniforge/base/envs/test_env/lib/python3.8/site-packages/joblib/parallel.py\", line 1043, in __call__\n",
      "    if self.dispatch_one_batch(iterator):\n",
      "  File \"/opt/homebrew/Caskroom/miniforge/base/envs/test_env/lib/python3.8/site-packages/joblib/parallel.py\", line 861, in dispatch_one_batch\n",
      "    self._dispatch(tasks)\n",
      "  File \"/opt/homebrew/Caskroom/miniforge/base/envs/test_env/lib/python3.8/site-packages/joblib/parallel.py\", line 779, in _dispatch\n",
      "    job = self._backend.apply_async(batch, callback=cb)\n",
      "  File \"/opt/homebrew/Caskroom/miniforge/base/envs/test_env/lib/python3.8/site-packages/joblib/_parallel_backends.py\", line 208, in apply_async\n",
      "    result = ImmediateResult(func)\n",
      "  File \"/opt/homebrew/Caskroom/miniforge/base/envs/test_env/lib/python3.8/site-packages/joblib/_parallel_backends.py\", line 572, in __init__\n",
      "    self.results = batch()\n",
      "  File \"/opt/homebrew/Caskroom/miniforge/base/envs/test_env/lib/python3.8/site-packages/joblib/parallel.py\", line 262, in __call__\n",
      "    return [func(*args, **kwargs)\n",
      "  File \"/opt/homebrew/Caskroom/miniforge/base/envs/test_env/lib/python3.8/site-packages/joblib/parallel.py\", line 262, in <listcomp>\n",
      "    return [func(*args, **kwargs)\n",
      "  File \"/opt/homebrew/Caskroom/miniforge/base/envs/test_env/lib/python3.8/site-packages/sklearn/utils/fixes.py\", line 117, in __call__\n",
      "    return self.function(*args, **kwargs)\n",
      "  File \"/opt/homebrew/Caskroom/miniforge/base/envs/test_env/lib/python3.8/site-packages/sklearn/ensemble/_forest.py\", line 189, in _parallel_build_trees\n",
      "    tree.fit(X, y, sample_weight=curr_sample_weight, check_input=False)\n",
      "  File \"/opt/homebrew/Caskroom/miniforge/base/envs/test_env/lib/python3.8/site-packages/sklearn/tree/_classes.py\", line 969, in fit\n",
      "    super().fit(\n",
      "  File \"/opt/homebrew/Caskroom/miniforge/base/envs/test_env/lib/python3.8/site-packages/sklearn/tree/_classes.py\", line 265, in fit\n",
      "    check_scalar(\n",
      "  File \"/opt/homebrew/Caskroom/miniforge/base/envs/test_env/lib/python3.8/site-packages/sklearn/utils/validation.py\", line 1480, in check_scalar\n",
      "    raise ValueError(\n",
      "ValueError: min_samples_split == 1, must be >= 2.\n",
      "\n",
      "  warnings.warn(some_fits_failed_message, FitFailedWarning)\n",
      "/opt/homebrew/Caskroom/miniforge/base/envs/test_env/lib/python3.8/site-packages/sklearn/model_selection/_search.py:953: UserWarning: One or more of the test scores are non-finite: [       nan 0.49402985 0.5119403  0.49402985 0.48656716 0.49104478\n",
      " 0.5        0.50298507 0.49850746        nan 0.51044776 0.49552239\n",
      " 0.49701493 0.49850746 0.50746269 0.50447761 0.49701493 0.51044776\n",
      "        nan 0.49552239 0.5        0.51044776 0.49552239 0.5\n",
      " 0.50597015 0.49402985 0.50895522        nan 0.50447761 0.50298507\n",
      " 0.5        0.49701493 0.50895522 0.50895522 0.51492537 0.50149254\n",
      "        nan 0.5        0.51044776 0.5119403  0.51343284 0.49701493\n",
      " 0.5        0.5        0.5               nan 0.51044776 0.51492537\n",
      " 0.50149254 0.50447761 0.50149254 0.50746269 0.49104478 0.50895522\n",
      "        nan 0.50447761 0.5        0.50746269 0.50298507 0.50298507\n",
      " 0.51343284 0.50597015 0.5               nan 0.50597015 0.50298507\n",
      " 0.50597015 0.5        0.50895522 0.51343284 0.50895522 0.51641791\n",
      "        nan 0.5119403  0.51044776 0.51492537 0.50895522 0.50895522\n",
      " 0.50149254 0.50597015 0.5119403         nan 0.50895522 0.51044776\n",
      " 0.5119403  0.50447761 0.51343284 0.5119403  0.51492537 0.5119403\n",
      "        nan 0.48208955 0.49253731 0.49402985 0.48955224 0.48059701\n",
      " 0.49701493 0.48208955 0.49850746        nan 0.49104478 0.49552239\n",
      " 0.49253731 0.50298507 0.49402985 0.5        0.50298507 0.50298507\n",
      "        nan 0.50597015 0.4880597  0.50597015 0.50895522 0.49104478\n",
      " 0.49850746 0.5        0.5               nan 0.50895522 0.50298507\n",
      " 0.5119403  0.5        0.5        0.50746269 0.5        0.49402985\n",
      "        nan 0.49701493 0.50447761 0.50746269 0.50298507 0.49253731\n",
      " 0.50895522 0.51343284 0.5119403         nan 0.5119403  0.51044776\n",
      " 0.49850746 0.49850746 0.51044776 0.5        0.5        0.50597015\n",
      "        nan 0.5        0.50895522 0.50447761 0.50298507 0.5\n",
      " 0.50447761 0.50298507 0.51791045        nan 0.51044776 0.50447761\n",
      " 0.50746269 0.50298507 0.50746269 0.51343284 0.5119403  0.51044776\n",
      "        nan 0.50895522 0.50149254 0.5        0.50895522 0.50447761\n",
      " 0.49850746 0.50597015 0.50746269        nan 0.51343284 0.51492537\n",
      " 0.5119403  0.50895522 0.50149254 0.51641791 0.5119403  0.50746269\n",
      "        nan 0.51044776 0.50298507 0.49402985 0.5        0.50149254\n",
      " 0.50298507 0.49850746 0.49701493        nan 0.50298507 0.49402985\n",
      " 0.50149254 0.50298507 0.50149254 0.48507463 0.49552239 0.50149254\n",
      "        nan 0.50447761 0.50746269 0.49253731 0.50597015 0.50597015\n",
      " 0.51343284 0.49402985 0.49850746        nan 0.50447761 0.50895522\n",
      " 0.49850746 0.48208955 0.49850746 0.50895522 0.5        0.49850746\n",
      "        nan 0.50597015 0.5        0.50746269 0.50447761 0.5\n",
      " 0.49253731 0.50298507 0.51343284        nan 0.50149254 0.50149254\n",
      " 0.50746269 0.49701493 0.5        0.50597015 0.51044776 0.51044776\n",
      "        nan 0.50597015 0.49701493 0.50597015 0.50149254 0.50298507\n",
      " 0.51044776 0.50298507 0.50447761        nan 0.52089552 0.5119403\n",
      " 0.50447761 0.5119403  0.50298507 0.51791045 0.50298507 0.50447761\n",
      "        nan 0.50597015 0.5119403  0.51492537 0.50746269 0.50895522\n",
      " 0.50597015 0.5119403  0.50895522        nan 0.50597015 0.50746269\n",
      " 0.50447761 0.52238806 0.51940299 0.51044776 0.5        0.49850746\n",
      "        nan 0.49701493 0.49850746 0.49552239 0.48955224 0.49701493\n",
      " 0.49253731 0.49850746 0.49104478        nan 0.51044776 0.5\n",
      " 0.48955224 0.49850746 0.50149254 0.50447761 0.48059701 0.50597015\n",
      "        nan 0.49104478 0.50447761 0.49701493 0.50597015 0.5\n",
      " 0.49701493 0.50597015 0.5               nan 0.5        0.51791045\n",
      " 0.49701493 0.50447761 0.5        0.50149254 0.50746269 0.50298507\n",
      "        nan 0.50447761 0.50597015 0.49253731 0.50597015 0.49253731\n",
      " 0.5        0.50597015 0.49701493        nan 0.5119403  0.51343284\n",
      " 0.49104478 0.5        0.50149254 0.50447761 0.5        0.49850746\n",
      "        nan 0.51343284 0.50597015 0.50746269 0.51791045 0.51492537\n",
      " 0.50447761 0.50895522 0.50746269        nan 0.5        0.51343284\n",
      " 0.51044776 0.51492537 0.50746269 0.50447761 0.50447761 0.51492537\n",
      "        nan 0.50298507 0.51343284 0.51044776 0.50746269 0.51044776\n",
      " 0.50597015 0.50746269 0.49850746        nan 0.51641791 0.5119403\n",
      " 0.51492537 0.50895522 0.50746269 0.51940299 0.50298507 0.5       ]\n",
      "  warnings.warn(\n"
     ]
    }
   ],
   "source": [
    "from sklearn.ensemble import RandomForestClassifier\n",
    "RF = RandomForestClassifier()\n",
    "parameters = {\n",
    " 'max_depth': [40,50,60,70],\n",
    " 'min_samples_leaf': range(10,20),\n",
    " 'min_samples_split': range(1,10)}\n",
    "RF_gs = GridSearchCV(RF, parameters, scoring ='accuracy')\n",
    "RF_gs.fit(X_train, y_train.values.ravel())\n",
    "y_pred = RF_gs.predict(X_test)\n",
    "print(accuracy_score(y_test, y_pred))\n",
    "print(RF_gs.best_params_)\n",
    "dump(RF_gs, 'RF.joblib') "
   ]
  },
  {
   "cell_type": "markdown",
   "metadata": {},
   "source": []
  },
  {
   "cell_type": "code",
   "execution_count": null,
   "metadata": {},
   "outputs": [],
   "source": []
  }
 ],
 "metadata": {
  "kernelspec": {
   "display_name": "Python 3.8.13 ('test_env')",
   "language": "python",
   "name": "python3"
  },
  "language_info": {
   "codemirror_mode": {
    "name": "ipython",
    "version": 3
   },
   "file_extension": ".py",
   "mimetype": "text/x-python",
   "name": "python",
   "nbconvert_exporter": "python",
   "pygments_lexer": "ipython3",
   "version": "3.8.13"
  },
  "orig_nbformat": 4,
  "vscode": {
   "interpreter": {
    "hash": "ad9e9eb2daee000098dbe82a593671e3359c3d84087040faff4d2ccf390e5b71"
   }
  }
 },
 "nbformat": 4,
 "nbformat_minor": 2
}
